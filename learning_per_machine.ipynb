{
 "cells": [
  {
   "cell_type": "code",
   "execution_count": 1,
   "metadata": {
    "collapsed": true
   },
   "outputs": [],
   "source": [
    "import pandas as pd\n",
    "import os\n",
    "import numpy as np\n",
    "from datetime import timedelta\n",
    "\n",
    "from sklearn.ensemble import RandomForestRegressor\n",
    "\n",
    "import matplotlib.pyplot as plt\n",
    "import seaborn as sns\n",
    "%matplotlib inline"
   ]
  },
  {
   "cell_type": "code",
   "execution_count": 2,
   "metadata": {
    "collapsed": true
   },
   "outputs": [],
   "source": [
    "in_dir = 'D:\\\\Toppan\\\\2017-11-20 全データ\\\\処理済(機械ごと)\\\\vectorized'\n",
    "out_dir = in_dir"
   ]
  },
  {
   "cell_type": "code",
   "execution_count": 3,
   "metadata": {
    "collapsed": true
   },
   "outputs": [],
   "source": [
    "holiday_path = 'D:\\\\Toppan\\\\2017-11-20 全データ\\\\データ\\\\切り離し全休日\\\\全休日.xlsx'\n",
    "\n",
    "def mask_out(X, y, month):\n",
    "    \n",
    "    try:\n",
    "        df_filter = pd.read_excel(holiday_path, sheet_name=month, index_col=0).iloc[2:]\n",
    "    except Exception as e:\n",
    "        print(e, month)\n",
    "        return X, y\n",
    "    \n",
    "    seisan = True if '生産\\n有無' in df_filter else False\n",
    "    \n",
    "    def isBusy(idx):\n",
    "        row = df_filter.loc[idx]\n",
    "        if row.loc['切離\\n有無'] == '切離' or row.loc['全休\\n判定'] == '全休' \\\n",
    "            or row.loc['異常判定'] == '※異常稼動' or (seisan and row.loc['生産\\n有無'] == '無'):\n",
    "            return False\n",
    "        else:\n",
    "            return True\n",
    "        \n",
    "    x_busy_idx = []\n",
    "    y_busy_idx = []\n",
    "    for x_idx, y_idx in zip (X.index, y.index):\n",
    "        if isBusy(x_idx) and isBusy(y_idx):\n",
    "            x_busy_idx.append(x_idx)\n",
    "            y_busy_idx.append(y_idx)\n",
    "    \n",
    "    return X.loc[x_busy_idx], y.loc[y_busy_idx]"
   ]
  },
  {
   "cell_type": "code",
   "execution_count": 4,
   "metadata": {
    "collapsed": true
   },
   "outputs": [],
   "source": [
    "def get_importance_figure(model, name, features):\n",
    "    \n",
    "    indices = np.argsort(model.feature_importances_)[::-1]\n",
    "    \n",
    "    # save csv\n",
    "    s = pd.Series(data=model.feature_importances_[indices], \n",
    "                  index=features[indices])\n",
    "    \n",
    "    s.to_csv(os.path.join(out_dir, name + '_寄与度.csv'), \n",
    "             encoding='shift-jis')"
   ]
  },
  {
   "cell_type": "code",
   "execution_count": 5,
   "metadata": {
    "collapsed": true
   },
   "outputs": [],
   "source": [
    "def parse_data(exl, sheet):\n",
    "    \n",
    "    df = exl.parse(sheet_name=sheet, index_col=0)\n",
    "\n",
    "    return df\n"
   ]
  },
  {
   "cell_type": "code",
   "execution_count": 6,
   "metadata": {
    "collapsed": true
   },
   "outputs": [],
   "source": [
    "def split_day_night(acc_abs):\n",
    "    acc_abs_days, acc_abs_nights = [], []\n",
    "    for i, acc in acc_abs.iteritems():\n",
    "        if 7 < i.hour < 22:\n",
    "            acc_abs_days.append(acc)\n",
    "        else:\n",
    "            acc_abs_nights.append(acc)\n",
    "\n",
    "    return acc_abs_days, acc_abs_nights\n",
    "\n",
    "def get_output(res, output, sname):\n",
    "    res = res[res['target'] != 0]\n",
    "    \n",
    "    if len(res) == 0:\n",
    "        return None\n",
    "    \n",
    "    y_pred, y_true = res['preds'], res['target']\n",
    "    '''calculate abs accuracy'''\n",
    "    acc_abs = abs(y_pred - y_true) / y_true\n",
    "    '''aplit days and nights'''\n",
    "    acc_abs_days, acc_abs_nights = split_day_night(acc_abs)\n",
    "    len_days, len_nights = len(acc_abs_days), len(acc_abs_nights)\n",
    "\n",
    "    #sname2acc = {'蒸気': [0.2, 0.15], '電力': [0.09, 0.15], '冷水': [0.15, 0.1]}\n",
    "\n",
    "    '''acc stats'''\n",
    "    len_acc_days = len(list(filter(lambda x: x <= 0.2, acc_abs_days)))\n",
    "    len_acc_nights = len(list(filter(lambda x: x <= 0.15, acc_abs_nights)))\n",
    "    acc_stats_days = len_acc_days / len_days\n",
    "    acc_stats_nights = len_acc_nights / len_nights\n",
    "\n",
    "    output['設備名'].append(sname)\n",
    "    output['平日昼・総'].append(len_days)\n",
    "    output['平日夜・総'].append(len_nights)\n",
    "    output['平日昼・基準内'].append(len_acc_days)\n",
    "    output['平日夜・基準内'].append(len_acc_nights)\n",
    "    output['平日昼基準率'].append(acc_stats_days)\n",
    "    output['平日夜基準率'].append(acc_stats_nights)\n",
    "\n",
    "    return output"
   ]
  },
  {
   "cell_type": "markdown",
   "metadata": {},
   "source": [
    "### Learning"
   ]
  },
  {
   "cell_type": "code",
   "execution_count": 7,
   "metadata": {
    "collapsed": false
   },
   "outputs": [
    {
     "name": "stdout",
     "output_type": "stream",
     "text": [
      "GDNB {'設備名': ['GDNB'], '平日昼・総': [290], '平日夜・総': [202], '平日昼・基準内': [107], '平日夜・基準内': [56], '平日昼基準率': [0.3689655172413793], '平日夜基準率': [0.27722772277227725]}\n",
      "GE07 {'設備名': ['GE07'], '平日昼・総': [292], '平日夜・総': [227], '平日昼・基準内': [125], '平日夜・基準内': [53], '平日昼基準率': [0.4280821917808219], '平日夜基準率': [0.23348017621145375]}\n",
      "GE51 {'設備名': ['GE51'], '平日昼・総': [299], '平日夜・総': [234], '平日昼・基準内': [125], '平日夜・基準内': [67], '平日昼基準率': [0.4180602006688963], '平日夜基準率': [0.2863247863247863]}\n",
      "GE52 {'設備名': ['GE52'], '平日昼・総': [124], '平日夜・総': [124], '平日昼・基準内': [56], '平日夜・基準内': [42], '平日昼基準率': [0.45161290322580644], '平日夜基準率': [0.3387096774193548]}\n",
      "GE53 {'設備名': ['GE53'], '平日昼・総': [294], '平日夜・総': [215], '平日昼・基準内': [189], '平日夜・基準内': [137], '平日昼基準率': [0.6428571428571429], '平日夜基準率': [0.6372093023255814]}\n",
      "GL15 {'設備名': ['GL15'], '平日昼・総': [341], '平日夜・総': [266], '平日昼・基準内': [304], '平日夜・基準内': [242], '平日昼基準率': [0.8914956011730205], '平日夜基準率': [0.9097744360902256]}\n",
      "GL51 {'設備名': ['GL51'], '平日昼・総': [340], '平日夜・総': [266], '平日昼・基準内': [328], '平日夜・基準内': [214], '平日昼基準率': [0.9647058823529412], '平日夜基準率': [0.8045112781954887]}\n",
      "GL52 {'設備名': ['GL52'], '平日昼・総': [344], '平日夜・総': [267], '平日昼・基準内': [323], '平日夜・基準内': [250], '平日昼基準率': [0.938953488372093], '平日夜基準率': [0.9363295880149812]}\n",
      "GP22 {'設備名': ['GP22'], '平日昼・総': [322], '平日夜・総': [247], '平日昼・基準内': [150], '平日夜・基準内': [63], '平日昼基準率': [0.4658385093167702], '平日夜基準率': [0.2550607287449393]}\n",
      "GP25 {'設備名': ['GP25'], '平日昼・総': [283], '平日夜・総': [215], '平日昼・基準内': [70], '平日夜・基準内': [40], '平日昼基準率': [0.24734982332155478], '平日夜基準率': [0.18604651162790697]}\n",
      "GP26 {'設備名': ['GP26'], '平日昼・総': [201], '平日夜・総': [90], '平日昼・基準内': [37], '平日夜・基準内': [18], '平日昼基準率': [0.18407960199004975], '平日夜基準率': [0.2]}\n",
      "GP27 {'設備名': ['GP27'], '平日昼・総': [299], '平日夜・総': [232], '平日昼・基準内': [68], '平日夜・基準内': [40], '平日昼基準率': [0.22742474916387959], '平日夜基準率': [0.1724137931034483]}\n",
      "GP28 {'設備名': ['GP28'], '平日昼・総': [285], '平日夜・総': [199], '平日昼・基準内': [54], '平日夜・基準内': [27], '平日昼基準率': [0.18947368421052632], '平日夜基準率': [0.135678391959799]}\n",
      "GP29 {'設備名': ['GP29'], '平日昼・総': [348], '平日夜・総': [266], '平日昼・基準内': [156], '平日夜・基準内': [84], '平日昼基準率': [0.4482758620689655], '平日夜基準率': [0.3157894736842105]}\n",
      "GP30 {'設備名': ['GP30'], '平日昼・総': [330], '平日夜・総': [252], '平日昼・基準内': [112], '平日夜・基準内': [41], '平日昼基準率': [0.3393939393939394], '平日夜基準率': [0.1626984126984127]}\n",
      "GP31 {'設備名': ['GP31'], '平日昼・総': [324], '平日夜・総': [256], '平日昼・基準内': [106], '平日夜・基準内': [49], '平日昼基準率': [0.3271604938271605], '平日夜基準率': [0.19140625]}\n",
      "GP51 {'設備名': ['GP51'], '平日昼・総': [343], '平日夜・総': [264], '平日昼・基準内': [135], '平日夜・基準内': [65], '平日昼基準率': [0.3935860058309038], '平日夜基準率': [0.24621212121212122]}\n",
      "GP52 {'設備名': ['GP52'], '平日昼・総': [316], '平日夜・総': [242], '平日昼・基準内': [81], '平日夜・基準内': [37], '平日昼基準率': [0.2563291139240506], '平日夜基準率': [0.15289256198347106]}\n",
      "GP53 {'設備名': ['GP53'], '平日昼・総': [304], '平日夜・総': [228], '平日昼・基準内': [72], '平日夜・基準内': [36], '平日昼基準率': [0.23684210526315788], '平日夜基準率': [0.15789473684210525]}\n",
      "GT1A_GT1B {'設備名': ['GT1A_GT1B'], '平日昼・総': [339], '平日夜・総': [267], '平日昼・基準内': [262], '平日夜・基準内': [172], '平日昼基準率': [0.7728613569321534], '平日夜基準率': [0.6441947565543071]}\n",
      "空調 {'設備名': ['空調'], '平日昼・総': [350], '平日夜・総': [267], '平日昼・基準内': [301], '平日夜・基準内': [201], '平日昼基準率': [0.86], '平日夜基準率': [0.7528089887640449]}\n",
      "溶剤回収 {'設備名': ['溶剤回収'], '平日昼・総': [350], '平日夜・総': [267], '平日昼・基準内': [299], '平日夜・基準内': [199], '平日昼基準率': [0.8542857142857143], '平日夜基準率': [0.7453183520599251]}\n"
     ]
    }
   ],
   "source": [
    "exl_learn = pd.ExcelFile(os.path.join(in_dir, '201709010800_vapor_per_machine.xlsx'))\n",
    "exl_test = pd.ExcelFile(os.path.join(in_dir, '201710010800_vapor_per_machine.xlsx'))\n",
    "\n",
    "accs = []\n",
    "for sheet in exl_learn.sheet_names:\n",
    "    \n",
    "    if sheet == 'GDNA': continue\n",
    "    \n",
    "    # data\n",
    "    df_learn = parse_data(exl_learn, sheet)\n",
    "    df_test = parse_data(exl_test, sheet)\n",
    "\n",
    "    # filter out holidays\n",
    "    X_learn, y_learn = mask_out(df_learn.iloc[:-1, :-1], df_learn.iloc[1:, -1], '17年9月')\n",
    "    X_test, y_test = mask_out(df_test.iloc[:-1, :-1], df_test.iloc[1:, -1], '17年10月')\n",
    "    \n",
    "    # base learner\n",
    "    model = RandomForestRegressor(n_estimators=700, \n",
    "                                  n_jobs=-1, \n",
    "                                  max_depth=11, \n",
    "                                  max_features='auto', \n",
    "                                  criterion='mae', \n",
    "                                  random_state=700, \n",
    "                                  warm_start=True)\n",
    "    \n",
    "    # learn 1 hour later target\n",
    "    model.fit(X_learn.values, y_learn.values)\n",
    "    \n",
    "    # get feature importance figures\n",
    "    #get_importance_figure(model, sheet)\n",
    "    \n",
    "    # test with online learning\n",
    "    preds = []\n",
    "    for idx, row in X_test.iterrows():\n",
    "        \n",
    "        # predict\n",
    "        preds.append(model.predict(row.values.reshape(1, -1))[0])\n",
    "        \n",
    "        # online learning\n",
    "        model.n_estimators += 50\n",
    "        \n",
    "        X_learn = X_learn.append(row)\n",
    "        y_learn = y_learn.append(pd.Series(data=y_test.loc[idx + timedelta(hours=1)], \n",
    "                  index=[idx + timedelta(hours=1)]))\n",
    "        \n",
    "        model.fit(X_learn, y_learn)\n",
    "        \n",
    "    # save preds and test\n",
    "    preds = pd.Series(data=preds, index=y_test.index, name='preds')\n",
    "    result = pd.concat([preds, y_test], axis=1)\n",
    "    result.to_csv(os.path.join(out_dir, sheet + '.csv'))\n",
    "    \n",
    "    # accuracy\n",
    "    output = {'設備名': [], \n",
    "              '平日昼・総': [], '平日夜・総': [], \n",
    "              '平日昼・基準内': [], '平日夜・基準内': [], \n",
    "              '平日昼基準率': [], '平日夜基準率': []}\n",
    "    output = get_output(result, output, sheet)\n",
    "    \n",
    "    print(sheet, output)\n",
    "    \n",
    "    if output:\n",
    "        accs.append(pd.DataFrame(output))\n",
    "    \n",
    "# save accuracy\n",
    "accs = pd.concat(accs)\n",
    "accs.to_csv(os.path.join(out_dir, 'acc.csv'), index=False, encoding='shift-jis')\n",
    "    "
   ]
  },
  {
   "cell_type": "code",
   "execution_count": 8,
   "metadata": {
    "collapsed": false
   },
   "outputs": [
    {
     "name": "stdout",
     "output_type": "stream",
     "text": [
      "-------------over-----------\n"
     ]
    }
   ],
   "source": [
    "print('-------------over-----------')"
   ]
  },
  {
   "cell_type": "code",
   "execution_count": null,
   "metadata": {
    "collapsed": true
   },
   "outputs": [],
   "source": []
  }
 ],
 "metadata": {
  "kernelspec": {
   "display_name": "Python 3",
   "language": "python",
   "name": "python3"
  },
  "language_info": {
   "codemirror_mode": {
    "name": "ipython",
    "version": 3
   },
   "file_extension": ".py",
   "mimetype": "text/x-python",
   "name": "python",
   "nbconvert_exporter": "python",
   "pygments_lexer": "ipython3",
   "version": "3.6.0"
  }
 },
 "nbformat": 4,
 "nbformat_minor": 2
}
