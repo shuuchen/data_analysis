{
 "cells": [
  {
   "cell_type": "code",
   "execution_count": 19,
   "metadata": {
    "collapsed": true
   },
   "outputs": [],
   "source": [
    "import pandas as pd\n",
    "import os\n",
    "\n",
    "import matplotlib.pyplot as plt\n",
    "%matplotlib inline"
   ]
  },
  {
   "cell_type": "markdown",
   "metadata": {},
   "source": [
    "### add voc"
   ]
  },
  {
   "cell_type": "code",
   "execution_count": 76,
   "metadata": {
    "collapsed": true
   },
   "outputs": [
    {
     "name": "stdout",
     "output_type": "stream",
     "text": [
      "201611010800_elec_per_machine.xlsx\n",
      "201612010800_elec_per_machine.xlsx\n",
      "201701010800_elec_per_machine.xlsx\n",
      "201702010800_elec_per_machine.xlsx\n",
      "201703010800_elec_per_machine.xlsx\n",
      "201704010800_elec_per_machine.xlsx\n",
      "201705010800_elec_per_machine.xlsx\n",
      "201706010800_elec_per_machine.xlsx\n",
      "201707010800_elec_per_machine.xlsx\n",
      "201708010800_elec_per_machine.xlsx\n",
      "201709010800_elec_per_machine.xlsx\n",
      "201710010800_elec_per_machine.xlsx\n",
      "201711010800_elec_per_machine.xlsx\n",
      "201712010800_elec_per_machine.xlsx\n",
      "201801010800_elec_per_machine.xlsx\n",
      "201802010800_elec_per_machine.xlsx\n",
      "~$201802010800_elec_per_machine.xlsx\n"
     ]
    },
    {
     "ename": "FileNotFoundError",
     "evalue": "[Errno 2] No such file or directory: 'D:\\\\Toppan\\\\2017-11-20 全データ\\\\処理済(機械ごと)\\\\elec\\\\~$201802010800_elec_per_machine.xlsx'",
     "output_type": "error",
     "traceback": [
      "\u001b[0;31m---------------------------------------------------------------------------\u001b[0m",
      "\u001b[0;31mFileNotFoundError\u001b[0m                         Traceback (most recent call last)",
      "\u001b[0;32m<ipython-input-76-e7697f773b0c>\u001b[0m in \u001b[0;36m<module>\u001b[0;34m()\u001b[0m\n\u001b[1;32m      8\u001b[0m     \u001b[0mprint\u001b[0m\u001b[1;33m(\u001b[0m\u001b[0mf\u001b[0m\u001b[1;33m)\u001b[0m\u001b[1;33m\u001b[0m\u001b[0m\n\u001b[1;32m      9\u001b[0m \u001b[1;33m\u001b[0m\u001b[0m\n\u001b[0;32m---> 10\u001b[0;31m     \u001b[0mexl\u001b[0m \u001b[1;33m=\u001b[0m \u001b[0mpd\u001b[0m\u001b[1;33m.\u001b[0m\u001b[0mExcelFile\u001b[0m\u001b[1;33m(\u001b[0m\u001b[0mos\u001b[0m\u001b[1;33m.\u001b[0m\u001b[0mpath\u001b[0m\u001b[1;33m.\u001b[0m\u001b[0mjoin\u001b[0m\u001b[1;33m(\u001b[0m\u001b[0min_dir\u001b[0m\u001b[1;33m,\u001b[0m \u001b[0mf\u001b[0m\u001b[1;33m)\u001b[0m\u001b[1;33m)\u001b[0m\u001b[1;33m\u001b[0m\u001b[0m\n\u001b[0m\u001b[1;32m     11\u001b[0m     \u001b[0mexl_writer\u001b[0m \u001b[1;33m=\u001b[0m \u001b[0mpd\u001b[0m\u001b[1;33m.\u001b[0m\u001b[0mExcelWriter\u001b[0m\u001b[1;33m(\u001b[0m\u001b[0mos\u001b[0m\u001b[1;33m.\u001b[0m\u001b[0mpath\u001b[0m\u001b[1;33m.\u001b[0m\u001b[0mjoin\u001b[0m\u001b[1;33m(\u001b[0m\u001b[0mout_dir\u001b[0m\u001b[1;33m,\u001b[0m \u001b[0mf\u001b[0m\u001b[1;33m)\u001b[0m\u001b[1;33m)\u001b[0m\u001b[1;33m\u001b[0m\u001b[0m\n\u001b[1;32m     12\u001b[0m \u001b[1;33m\u001b[0m\u001b[0m\n",
      "\u001b[0;32mC:\\Anaconda3\\lib\\site-packages\\pandas\\io\\excel.py\u001b[0m in \u001b[0;36m__init__\u001b[0;34m(self, io, **kwds)\u001b[0m\n\u001b[1;32m    292\u001b[0m             \u001b[0mself\u001b[0m\u001b[1;33m.\u001b[0m\u001b[0mbook\u001b[0m \u001b[1;33m=\u001b[0m \u001b[0mxlrd\u001b[0m\u001b[1;33m.\u001b[0m\u001b[0mopen_workbook\u001b[0m\u001b[1;33m(\u001b[0m\u001b[0mfile_contents\u001b[0m\u001b[1;33m=\u001b[0m\u001b[0mdata\u001b[0m\u001b[1;33m)\u001b[0m\u001b[1;33m\u001b[0m\u001b[0m\n\u001b[1;32m    293\u001b[0m         \u001b[1;32melif\u001b[0m \u001b[0misinstance\u001b[0m\u001b[1;33m(\u001b[0m\u001b[0mself\u001b[0m\u001b[1;33m.\u001b[0m\u001b[0m_io\u001b[0m\u001b[1;33m,\u001b[0m \u001b[0mcompat\u001b[0m\u001b[1;33m.\u001b[0m\u001b[0mstring_types\u001b[0m\u001b[1;33m)\u001b[0m\u001b[1;33m:\u001b[0m\u001b[1;33m\u001b[0m\u001b[0m\n\u001b[0;32m--> 294\u001b[0;31m             \u001b[0mself\u001b[0m\u001b[1;33m.\u001b[0m\u001b[0mbook\u001b[0m \u001b[1;33m=\u001b[0m \u001b[0mxlrd\u001b[0m\u001b[1;33m.\u001b[0m\u001b[0mopen_workbook\u001b[0m\u001b[1;33m(\u001b[0m\u001b[0mself\u001b[0m\u001b[1;33m.\u001b[0m\u001b[0m_io\u001b[0m\u001b[1;33m)\u001b[0m\u001b[1;33m\u001b[0m\u001b[0m\n\u001b[0m\u001b[1;32m    295\u001b[0m         \u001b[1;32melse\u001b[0m\u001b[1;33m:\u001b[0m\u001b[1;33m\u001b[0m\u001b[0m\n\u001b[1;32m    296\u001b[0m             raise ValueError('Must explicitly set engine if not passing in'\n",
      "\u001b[0;32mC:\\Anaconda3\\lib\\site-packages\\xlrd\\__init__.py\u001b[0m in \u001b[0;36mopen_workbook\u001b[0;34m(filename, logfile, verbosity, use_mmap, file_contents, encoding_override, formatting_info, on_demand, ragged_rows)\u001b[0m\n\u001b[1;32m    393\u001b[0m         \u001b[0mpeek\u001b[0m \u001b[1;33m=\u001b[0m \u001b[0mfile_contents\u001b[0m\u001b[1;33m[\u001b[0m\u001b[1;33m:\u001b[0m\u001b[0mpeeksz\u001b[0m\u001b[1;33m]\u001b[0m\u001b[1;33m\u001b[0m\u001b[0m\n\u001b[1;32m    394\u001b[0m     \u001b[1;32melse\u001b[0m\u001b[1;33m:\u001b[0m\u001b[1;33m\u001b[0m\u001b[0m\n\u001b[0;32m--> 395\u001b[0;31m         \u001b[1;32mwith\u001b[0m \u001b[0mopen\u001b[0m\u001b[1;33m(\u001b[0m\u001b[0mfilename\u001b[0m\u001b[1;33m,\u001b[0m \u001b[1;34m\"rb\"\u001b[0m\u001b[1;33m)\u001b[0m \u001b[1;32mas\u001b[0m \u001b[0mf\u001b[0m\u001b[1;33m:\u001b[0m\u001b[1;33m\u001b[0m\u001b[0m\n\u001b[0m\u001b[1;32m    396\u001b[0m             \u001b[0mpeek\u001b[0m \u001b[1;33m=\u001b[0m \u001b[0mf\u001b[0m\u001b[1;33m.\u001b[0m\u001b[0mread\u001b[0m\u001b[1;33m(\u001b[0m\u001b[0mpeeksz\u001b[0m\u001b[1;33m)\u001b[0m\u001b[1;33m\u001b[0m\u001b[0m\n\u001b[1;32m    397\u001b[0m     \u001b[1;32mif\u001b[0m \u001b[0mpeek\u001b[0m \u001b[1;33m==\u001b[0m \u001b[1;34mb\"PK\\x03\\x04\"\u001b[0m\u001b[1;33m:\u001b[0m \u001b[1;31m# a ZIP file\u001b[0m\u001b[1;33m\u001b[0m\u001b[0m\n",
      "\u001b[0;31mFileNotFoundError\u001b[0m: [Errno 2] No such file or directory: 'D:\\\\Toppan\\\\2017-11-20 全データ\\\\処理済(機械ごと)\\\\elec\\\\~$201802010800_elec_per_machine.xlsx'"
     ]
    }
   ],
   "source": [
    "in_dir = 'D:\\\\Toppan\\\\2017-11-20 全データ\\\\処理済(機械ごと)\\\\elec'\n",
    "out_dir = os.path.join(in_dir, 'with_voc')\n",
    "\n",
    "files = [x for x in os.listdir(in_dir) if '.xlsx' in x]\n",
    "\n",
    "for f in files:\n",
    "    \n",
    "    print(f)\n",
    "    \n",
    "    exl = pd.ExcelFile(os.path.join(in_dir, f))\n",
    "    exl_writer = pd.ExcelWriter(os.path.join(out_dir, f))\n",
    "    \n",
    "    voc_df = exl.parse(sheet_name='voc', \n",
    "              encoding='shift-jis', \n",
    "              index_col=0, \n",
    "              parse_dates=True)\n",
    "    \n",
    "    for sheet in exl.sheet_names:\n",
    "        \n",
    "        if sheet in ['voc']: \n",
    "            continue\n",
    "        \n",
    "        #print(sheet)\n",
    "        \n",
    "        df = exl.parse(sheet, \n",
    "                       encoding='shift-jis', \n",
    "                       index_col=0, \n",
    "                       parse_dates=True)\n",
    "        \n",
    "        if sheet != 'elec_others':\n",
    "            df.drop(columns=['計画開始数', '計画完了数'], inplace=True)\n",
    "        \n",
    "        if f == '201704010800_elec_per_machine.xlsx':\n",
    "            df = df.drop([x for x in df.index if x > voc_df.index[-1]])    \n",
    "        \n",
    "        def insert_voc(df, name):\n",
    "            df.insert(0, 'VOC燃料生成量', voc_df['VOC燃料生成量'].values)\n",
    "            df.insert(0, 'VOC再利用生成量', voc_df['VOC再利用生成量'].values)\n",
    "            \n",
    "            df.to_excel(exl_writer, sheet_name=name, encoding='shift-jis')\n",
    "        \n",
    "        #その他（総量）\tエネルギー棟未取得\t工場棟未取得\t溶剤回収\t空調（総量）\n",
    "        if sheet == 'elec_others':\n",
    "            \n",
    "            df_others_total = df['その他（総量）'].to_frame()\n",
    "            df_energy_not_got = df['エネルギー棟未取得'].to_frame()\n",
    "            df_factory_not_got = df['工場棟未取得'].to_frame()\n",
    "            df_solvent_recoverry = df['溶剤回収'].to_frame()\n",
    "            df_air_total = df['空調（総量）'].to_frame()\n",
    "            \n",
    "            insert_voc(df_others_total, 'その他（総量）')\n",
    "            insert_voc(df_energy_not_got, 'エネルギー棟未取得')\n",
    "            insert_voc(df_factory_not_got, '工場棟未取得')\n",
    "            insert_voc(df_solvent_recoverry, '溶剤回収')\n",
    "            insert_voc(df_air_total, '空調（総量）')\n",
    "        else:\n",
    "            insert_voc(df, sheet)\n",
    "    exl_writer.save()\n",
    "        "
   ]
  },
  {
   "cell_type": "code",
   "execution_count": 77,
   "metadata": {
    "collapsed": true
   },
   "outputs": [],
   "source": [
    "in_dir = 'D:\\\\Toppan\\\\2017-11-20 全データ\\\\処理済(機械ごと)\\\\elec\\\\with_voc'\n",
    "out_dir = os.path.join(in_dir, '..','with_voc_vectorized')"
   ]
  },
  {
   "cell_type": "markdown",
   "metadata": {},
   "source": [
    "### vectorize"
   ]
  },
  {
   "cell_type": "code",
   "execution_count": 78,
   "metadata": {
    "collapsed": false
   },
   "outputs": [],
   "source": [
    "def vectorize(fname):\n",
    "\n",
    "    out_exl = pd.ExcelWriter(os.path.join(out_dir, fname))\n",
    "    exl = pd.ExcelFile(os.path.join(in_dir, fname))\n",
    "    \n",
    "    def concat(df):\n",
    "        # concat data of current hour and past 2 hours\n",
    "        df0, df1, df2 = df.iloc[:-2], df.iloc[1:-1], df.iloc[2:]\n",
    "        \n",
    "        # change column names\n",
    "        df0.columns = [x + '-3' for x in df0.columns]\n",
    "        df1.columns = [x + '-2' for x in df1.columns]\n",
    "        df2.columns = [x + '-1' for x in df2.columns]\n",
    "        \n",
    "        df0.index = df2.index.tolist()\n",
    "        df1.index = df2.index.tolist()\n",
    "        \n",
    "        df012 = pd.concat([df0, df1, df2], axis=1)\n",
    "        \n",
    "        # add target\n",
    "        df012['target'] = df012.iloc[:, -1]\n",
    "        \n",
    "        return df012\n",
    "    \n",
    "    for name in exl.sheet_names:\n",
    "            \n",
    "        # read\n",
    "        df = exl.parse(name, \n",
    "                       index_col=0, \n",
    "                       parse_dates=True, \n",
    "                       encoding='shift-jis')\n",
    "        \n",
    "        # concat\n",
    "        df012 = concat(df)\n",
    "        \n",
    "        # output\n",
    "        df012.to_excel(out_exl, \n",
    "                       sheet_name=name, \n",
    "                       encoding='shift-jis')\n",
    "        \n",
    "    out_exl.save()"
   ]
  },
  {
   "cell_type": "code",
   "execution_count": 79,
   "metadata": {
    "collapsed": false
   },
   "outputs": [
    {
     "name": "stdout",
     "output_type": "stream",
     "text": [
      "201611010800_elec_per_machine.xlsx\n",
      "201612010800_elec_per_machine.xlsx\n",
      "201701010800_elec_per_machine.xlsx\n",
      "201702010800_elec_per_machine.xlsx\n",
      "201703010800_elec_per_machine.xlsx\n",
      "201704010800_elec_per_machine.xlsx\n",
      "201705010800_elec_per_machine.xlsx\n",
      "201706010800_elec_per_machine.xlsx\n",
      "201707010800_elec_per_machine.xlsx\n",
      "201708010800_elec_per_machine.xlsx\n",
      "201709010800_elec_per_machine.xlsx\n",
      "201710010800_elec_per_machine.xlsx\n",
      "201711010800_elec_per_machine.xlsx\n",
      "201712010800_elec_per_machine.xlsx\n",
      "201801010800_elec_per_machine.xlsx\n",
      "201802010800_elec_per_machine.xlsx\n",
      "finished\n"
     ]
    }
   ],
   "source": [
    "files = os.listdir(in_dir)\n",
    "for f in files:\n",
    "    print(f)\n",
    "    vectorize(f)\n",
    "print('finished')"
   ]
  },
  {
   "cell_type": "markdown",
   "metadata": {},
   "source": [
    "### compute total_acc.csv"
   ]
  },
  {
   "cell_type": "code",
   "execution_count": 74,
   "metadata": {
    "collapsed": true
   },
   "outputs": [
    {
     "name": "stdout",
     "output_type": "stream",
     "text": [
      "16年12月\n",
      "['GDNB_acc.csv', 'GE07_acc.csv', 'GE51_acc.csv', 'GE52_acc.csv', 'GE53_acc.csv', 'GL15_acc.csv', 'GL51_acc.csv', 'GL52_acc.csv', 'GP22_acc.csv', 'GP25_acc.csv', 'GP26_acc.csv', 'GP27_acc.csv', 'GP28_acc.csv', 'GP29_acc.csv', 'GP30_acc.csv', 'GP31_acc.csv', 'GP51_acc.csv', 'GP52_acc.csv', 'GP53_acc.csv', 'GT1A_GT1B_acc.csv', '溶剤回収_acc.csv', '空調_acc.csv']\n",
      "17年10月\n",
      "['GDNB_acc.csv', 'GE07_acc.csv', 'GE51_acc.csv', 'GE52_acc.csv', 'GE53_acc.csv', 'GL15_acc.csv', 'GL51_acc.csv', 'GL52_acc.csv', 'GP22_acc.csv', 'GP25_acc.csv', 'GP26_acc.csv', 'GP27_acc.csv', 'GP28_acc.csv', 'GP29_acc.csv', 'GP30_acc.csv', 'GP31_acc.csv', 'GP51_acc.csv', 'GP52_acc.csv', 'GP53_acc.csv', 'GT1A_GT1B_acc.csv', '溶剤回収_acc.csv', '空調_acc.csv']\n",
      "17年11月\n",
      "['GDNB_acc.csv', 'GE07_acc.csv', 'GE51_acc.csv', 'GE52_acc.csv', 'GE53_acc.csv', 'GL15_acc.csv', 'GL51_acc.csv', 'GL52_acc.csv', 'GP22_acc.csv', 'GP25_acc.csv', 'GP26_acc.csv', 'GP27_acc.csv', 'GP28_acc.csv', 'GP29_acc.csv', 'GP30_acc.csv', 'GP31_acc.csv', 'GP51_acc.csv', 'GP52_acc.csv', 'GP53_acc.csv', 'GT1A_GT1B_acc.csv', '溶剤回収_acc.csv', '空調_acc.csv']\n",
      "17年12月\n",
      "['GDNB_acc.csv', 'GE07_acc.csv', 'GE51_acc.csv', 'GE52_acc.csv', 'GE53_acc.csv', 'GL15_acc.csv', 'GL51_acc.csv', 'GL52_acc.csv', 'GP22_acc.csv', 'GP25_acc.csv', 'GP26_acc.csv', 'GP27_acc.csv', 'GP28_acc.csv', 'GP29_acc.csv', 'GP30_acc.csv', 'GP31_acc.csv', 'GP51_acc.csv', 'GP52_acc.csv', 'GP53_acc.csv', 'GT1A_GT1B_acc.csv', '溶剤回収_acc.csv', '空調_acc.csv']\n",
      "17年1月\n",
      "['GDNB_acc.csv', 'GE07_acc.csv', 'GE51_acc.csv', 'GE52_acc.csv', 'GE53_acc.csv', 'GL15_acc.csv', 'GL51_acc.csv', 'GL52_acc.csv', 'GP22_acc.csv', 'GP25_acc.csv', 'GP26_acc.csv', 'GP27_acc.csv', 'GP28_acc.csv', 'GP29_acc.csv', 'GP30_acc.csv', 'GP31_acc.csv', 'GP51_acc.csv', 'GP52_acc.csv', 'GP53_acc.csv', 'GT1A_GT1B_acc.csv', '溶剤回収_acc.csv', '空調_acc.csv']\n",
      "17年2月\n",
      "['GDNB_acc.csv', 'GE07_acc.csv', 'GE51_acc.csv', 'GE52_acc.csv', 'GE53_acc.csv', 'GL15_acc.csv', 'GL51_acc.csv', 'GL52_acc.csv', 'GP22_acc.csv', 'GP25_acc.csv', 'GP26_acc.csv', 'GP27_acc.csv', 'GP28_acc.csv', 'GP29_acc.csv', 'GP30_acc.csv', 'GP31_acc.csv', 'GP51_acc.csv', 'GP52_acc.csv', 'GP53_acc.csv', 'GT1A_GT1B_acc.csv', '溶剤回収_acc.csv', '空調_acc.csv']\n",
      "17年3月\n",
      "['GDNB_acc.csv', 'GE07_acc.csv', 'GE51_acc.csv', 'GE52_acc.csv', 'GE53_acc.csv', 'GL15_acc.csv', 'GL51_acc.csv', 'GL52_acc.csv', 'GP22_acc.csv', 'GP25_acc.csv', 'GP26_acc.csv', 'GP27_acc.csv', 'GP28_acc.csv', 'GP29_acc.csv', 'GP30_acc.csv', 'GP31_acc.csv', 'GP51_acc.csv', 'GP52_acc.csv', 'GP53_acc.csv', 'GT1A_GT1B_acc.csv', '溶剤回収_acc.csv', '空調_acc.csv']\n",
      "17年4月\n",
      "['GDNB_acc.csv', 'GE07_acc.csv', 'GE51_acc.csv', 'GE52_acc.csv', 'GE53_acc.csv', 'GL15_acc.csv', 'GL51_acc.csv', 'GL52_acc.csv', 'GP22_acc.csv', 'GP25_acc.csv', 'GP26_acc.csv', 'GP27_acc.csv', 'GP28_acc.csv', 'GP29_acc.csv', 'GP30_acc.csv', 'GP31_acc.csv', 'GP51_acc.csv', 'GP52_acc.csv', 'GP53_acc.csv', 'GT1A_GT1B_acc.csv', '溶剤回収_acc.csv', '空調_acc.csv']\n",
      "17年5月\n",
      "['GDNB_acc.csv', 'GE07_acc.csv', 'GE51_acc.csv', 'GE52_acc.csv', 'GE53_acc.csv', 'GL15_acc.csv', 'GL51_acc.csv', 'GL52_acc.csv', 'GP22_acc.csv', 'GP25_acc.csv', 'GP26_acc.csv', 'GP27_acc.csv', 'GP28_acc.csv', 'GP29_acc.csv', 'GP30_acc.csv', 'GP31_acc.csv', 'GP51_acc.csv', 'GP52_acc.csv', 'GP53_acc.csv', 'GT1A_GT1B_acc.csv', '溶剤回収_acc.csv', '空調_acc.csv']\n",
      "17年6月\n",
      "['GDNB_acc.csv', 'GE07_acc.csv', 'GE51_acc.csv', 'GE52_acc.csv', 'GE53_acc.csv', 'GL15_acc.csv', 'GL51_acc.csv', 'GL52_acc.csv', 'GP22_acc.csv', 'GP25_acc.csv', 'GP26_acc.csv', 'GP27_acc.csv', 'GP28_acc.csv', 'GP29_acc.csv', 'GP30_acc.csv', 'GP31_acc.csv', 'GP51_acc.csv', 'GP52_acc.csv', 'GP53_acc.csv', 'GT1A_GT1B_acc.csv', '溶剤回収_acc.csv', '空調_acc.csv']\n",
      "17年7月\n",
      "['GDNB_acc.csv', 'GE07_acc.csv', 'GE51_acc.csv', 'GE52_acc.csv', 'GE53_acc.csv', 'GL15_acc.csv', 'GL51_acc.csv', 'GL52_acc.csv', 'GP22_acc.csv', 'GP25_acc.csv', 'GP26_acc.csv', 'GP27_acc.csv', 'GP28_acc.csv', 'GP29_acc.csv', 'GP30_acc.csv', 'GP31_acc.csv', 'GP51_acc.csv', 'GP52_acc.csv', 'GP53_acc.csv', 'GT1A_GT1B_acc.csv', '溶剤回収_acc.csv', '空調_acc.csv']\n",
      "17年8月\n",
      "['GDNB_acc.csv', 'GE07_acc.csv', 'GE51_acc.csv', 'GE52_acc.csv', 'GE53_acc.csv', 'GL15_acc.csv', 'GL51_acc.csv', 'GL52_acc.csv', 'GP22_acc.csv', 'GP25_acc.csv', 'GP26_acc.csv', 'GP27_acc.csv', 'GP28_acc.csv', 'GP29_acc.csv', 'GP30_acc.csv', 'GP31_acc.csv', 'GP51_acc.csv', 'GP52_acc.csv', 'GP53_acc.csv', 'GT1A_GT1B_acc.csv', '溶剤回収_acc.csv', '空調_acc.csv']\n",
      "17年9月\n",
      "['GDNB_acc.csv', 'GE07_acc.csv', 'GE51_acc.csv', 'GE52_acc.csv', 'GE53_acc.csv', 'GL15_acc.csv', 'GL51_acc.csv', 'GL52_acc.csv', 'GP22_acc.csv', 'GP25_acc.csv', 'GP26_acc.csv', 'GP27_acc.csv', 'GP28_acc.csv', 'GP29_acc.csv', 'GP30_acc.csv', 'GP31_acc.csv', 'GP51_acc.csv', 'GP52_acc.csv', 'GP53_acc.csv', 'GT1A_GT1B_acc.csv', '溶剤回収_acc.csv', '空調_acc.csv']\n",
      "18年1月\n",
      "['GDNA_acc.csv', 'GDNB_acc.csv', 'GE07_acc.csv', 'GE51_acc.csv', 'GE52_acc.csv', 'GE53_acc.csv', 'GL15_acc.csv', 'GL51_acc.csv', 'GL52_acc.csv', 'GP22_acc.csv', 'GP25_acc.csv', 'GP26_acc.csv', 'GP27_acc.csv', 'GP28_acc.csv', 'GP29_acc.csv', 'GP30_acc.csv', 'GP31_acc.csv', 'GP51_acc.csv', 'GP52_acc.csv', 'GP53_acc.csv', 'GT1A_GT1B_acc.csv', '溶剤回収_acc.csv', '空調_acc.csv']\n",
      "18年2月\n",
      "['GDNA_acc.csv', 'GDNB_acc.csv', 'GE07_acc.csv', 'GE51_acc.csv', 'GE52_acc.csv', 'GE53_acc.csv', 'GL15_acc.csv', 'GL51_acc.csv', 'GL52_acc.csv', 'GP22_acc.csv', 'GP25_acc.csv', 'GP26_acc.csv', 'GP27_acc.csv', 'GP28_acc.csv', 'GP29_acc.csv', 'GP30_acc.csv', 'GP31_acc.csv', 'GP51_acc.csv', 'GP52_acc.csv', 'GP53_acc.csv', 'GT1A_GT1B_acc.csv', '溶剤回収_acc.csv', '空調_acc.csv']\n",
      "total_acc.csv\n"
     ]
    },
    {
     "ename": "NotADirectoryError",
     "evalue": "[WinError 267] ディレクトリ名が無効です。: 'D:\\\\Toppan\\\\2017-11-20 全データ\\\\解析結果(機械ごと)\\\\月間モデル_追加学習あり_全休日除き\\\\total_acc.csv'",
     "output_type": "error",
     "traceback": [
      "\u001b[0;31m---------------------------------------------------------------------------\u001b[0m",
      "\u001b[0;31mNotADirectoryError\u001b[0m                        Traceback (most recent call last)",
      "\u001b[0;32m<ipython-input-74-f252aeaf86d6>\u001b[0m in \u001b[0;36m<module>\u001b[0;34m()\u001b[0m\n\u001b[1;32m      8\u001b[0m \u001b[1;33m\u001b[0m\u001b[0m\n\u001b[1;32m      9\u001b[0m     \u001b[0md_path\u001b[0m \u001b[1;33m=\u001b[0m \u001b[0mos\u001b[0m\u001b[1;33m.\u001b[0m\u001b[0mpath\u001b[0m\u001b[1;33m.\u001b[0m\u001b[0mjoin\u001b[0m\u001b[1;33m(\u001b[0m\u001b[0min_dir\u001b[0m\u001b[1;33m,\u001b[0m \u001b[0md\u001b[0m\u001b[1;33m)\u001b[0m\u001b[1;33m\u001b[0m\u001b[0m\n\u001b[0;32m---> 10\u001b[0;31m     \u001b[0macc_files\u001b[0m \u001b[1;33m=\u001b[0m \u001b[1;33m[\u001b[0m\u001b[0mx\u001b[0m \u001b[1;32mfor\u001b[0m \u001b[0mx\u001b[0m \u001b[1;32min\u001b[0m \u001b[0mos\u001b[0m\u001b[1;33m.\u001b[0m\u001b[0mlistdir\u001b[0m\u001b[1;33m(\u001b[0m\u001b[0md_path\u001b[0m\u001b[1;33m)\u001b[0m \u001b[1;32mif\u001b[0m \u001b[1;34m'acc'\u001b[0m \u001b[1;32min\u001b[0m \u001b[0mx\u001b[0m \u001b[1;32mand\u001b[0m \u001b[1;34m'total'\u001b[0m \u001b[1;32mnot\u001b[0m \u001b[1;32min\u001b[0m \u001b[0mx\u001b[0m\u001b[1;33m]\u001b[0m\u001b[1;33m\u001b[0m\u001b[0m\n\u001b[0m\u001b[1;32m     11\u001b[0m     \u001b[0mprint\u001b[0m\u001b[1;33m(\u001b[0m\u001b[0macc_files\u001b[0m\u001b[1;33m)\u001b[0m\u001b[1;33m\u001b[0m\u001b[0m\n\u001b[1;32m     12\u001b[0m     \u001b[0maccs\u001b[0m \u001b[1;33m=\u001b[0m \u001b[1;33m[\u001b[0m\u001b[1;33m]\u001b[0m\u001b[1;33m\u001b[0m\u001b[0m\n",
      "\u001b[0;31mNotADirectoryError\u001b[0m: [WinError 267] ディレクトリ名が無効です。: 'D:\\\\Toppan\\\\2017-11-20 全データ\\\\解析結果(機械ごと)\\\\月間モデル_追加学習あり_全休日除き\\\\total_acc.csv'"
     ]
    }
   ],
   "source": [
    "in_dir = 'D:\\\\Toppan\\\\2017-11-20 全データ\\\\解析結果(機械ごと)\\\\月間モデル_追加学習あり_全休日除き'\n",
    "dirs = os.listdir(in_dir)\n",
    "#dirs = ['17年5月']\n",
    "\n",
    "for d in dirs:\n",
    "    \n",
    "    print(d)\n",
    "    \n",
    "    d_path = os.path.join(in_dir, d)\n",
    "    acc_files = [x for x in os.listdir(d_path) if 'acc' in x and 'total' not in x]\n",
    "    print(acc_files)\n",
    "    accs = []\n",
    "    for f in acc_files:\n",
    "        acc = pd.read_csv(os.path.join(d_path, f), \n",
    "                          encoding='shift-jis', \n",
    "                          engine='python', \n",
    "                          index_col=0)\n",
    "        accs.append(acc)\n",
    "    \n",
    "    accs = pd.concat(accs)\n",
    "    accs.to_csv(os.path.join(d_path, 'total_acc.csv'), \n",
    "                encoding='shift-jis')\n",
    "\n",
    "print('finished')"
   ]
  },
  {
   "cell_type": "code",
   "execution_count": null,
   "metadata": {
    "collapsed": true
   },
   "outputs": [],
   "source": []
  }
 ],
 "metadata": {
  "kernelspec": {
   "display_name": "Python 3",
   "language": "python",
   "name": "python3"
  },
  "language_info": {
   "codemirror_mode": {
    "name": "ipython",
    "version": 3
   },
   "file_extension": ".py",
   "mimetype": "text/x-python",
   "name": "python",
   "nbconvert_exporter": "python",
   "pygments_lexer": "ipython3",
   "version": "3.6.0"
  }
 },
 "nbformat": 4,
 "nbformat_minor": 2
}
